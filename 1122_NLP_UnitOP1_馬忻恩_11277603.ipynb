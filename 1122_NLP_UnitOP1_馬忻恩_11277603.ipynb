{
 "cells": [
  {
   "cell_type": "code",
   "execution_count": 6,
   "id": "13a1d699-7565-4269-81f8-6b6d3ed64106",
   "metadata": {},
   "outputs": [],
   "source": [
    "# NLP Unit Operation 1; My name is 馬忻恩 and student number 11277603\n",
    "import re"
   ]
  },
  {
   "cell_type": "code",
   "execution_count": 16,
   "id": "2b5b5f42-e8eb-48b1-9e1e-101fcb94383b",
   "metadata": {},
   "outputs": [
    {
     "name": "stdout",
     "output_type": "stream",
     "text": [
      "Address: ['No. 200, Zhongbei Road, Zhongli District, Taoyuan City 320314, Taiwan (R.O.C)']\n",
      "Phone: ['03-4654703']\n",
      "Email: ['andy@cycu.edu.tw']\n",
      "Website: ['https://iceweb.cycu.edu.tw/']\n"
     ]
    }
   ],
   "source": [
    "text = \"\"\"\n",
    "Dear Dr. Wang,\n",
    "My name is Andy Lau, and I am currently studying in the master's class of the Department of Engineering at Chung Yuan University.\n",
    "My research fields are machine learning and natural language processing.\n",
    "I am interested in applying for a part-time job with your company.\n",
    "My school is located at No. 200, Zhongbei Road, Zhongli District, Taoyuan City 320314, Taiwan (R.O.C) and the department phone number is 03-4654703.\n",
    "This is my department website: https://iceweb.cycu.edu.tw/\n",
    "If you have any questions, please get in touch with me. (andy@cycu.edu.tw)\n",
    "Sincerely,\"\n",
    "Andy Lau\n",
    "\"\"\"\n",
    "\n",
    "address = re.findall(r\"No\\.\\s\\d+,[\\w\\s.,]+\\d{6},\\sTaiwan\\s\\(R\\.O\\.C\\)\", text)\n",
    "#\n",
    "print(\"Address:\", address)\n",
    "\n",
    "phone = re.findall(r\"\\d{2,3}-\\d{6,8}\", text)\n",
    "print(\"Phone:\", phone)\n",
    "\n",
    "email = re.findall(r\"[a-zA-Z0-9._%+-]+@[a-zA-Z0-9.-]+\\.[a-zA-Z]{2,}\", text)\n",
    "print(\"Email:\", email)\n",
    "\n",
    "website = re.findall(r\"http[s]?://[^\\s]+\", text)\n",
    "print(\"Website:\", website)\n",
    "\n"
   ]
  },
  {
   "cell_type": "code",
   "execution_count": null,
   "id": "e0decefe-0024-4f8e-be3c-54840b649275",
   "metadata": {},
   "outputs": [],
   "source": []
  }
 ],
 "metadata": {
  "kernelspec": {
   "display_name": "Python 3 (ipykernel)",
   "language": "python",
   "name": "python3"
  },
  "language_info": {
   "codemirror_mode": {
    "name": "ipython",
    "version": 3
   },
   "file_extension": ".py",
   "mimetype": "text/x-python",
   "name": "python",
   "nbconvert_exporter": "python",
   "pygments_lexer": "ipython3",
   "version": "3.11.8"
  }
 },
 "nbformat": 4,
 "nbformat_minor": 5
}
