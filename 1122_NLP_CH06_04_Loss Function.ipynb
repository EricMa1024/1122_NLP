{
 "cells": [
  {
   "cell_type": "code",
   "execution_count": 1,
   "id": "c9b53568-3904-4b28-bf69-6394b8b1cb3d",
   "metadata": {},
   "outputs": [
    {
     "name": "stdout",
     "output_type": "stream",
     "text": [
      "Mean Squared Error: 0.08999999999999997\n"
     ]
    }
   ],
   "source": [
    "# Loss Function的實作\n",
    "# Loss Function的目的是：評估模型的效能\n",
    "# 本次以MSE來舉例，MSE特別適合用來做回歸\n",
    "\n",
    "import numpy as np\n",
    "\n",
    "# 假设的真实值和预测值\n",
    "y_true = np.array([3.0, 2.5, 4.0, 5.5])\n",
    "y_pred = np.array([2.9, 2.8, 4.1, 5.0])\n",
    "\n",
    "# 计算平均平方误差 (MSE)\n",
    "mse = np.mean((y_true - y_pred) ** 2)\n",
    "\n",
    "print(\"Mean Squared Error:\", mse)"
   ]
  },
  {
   "cell_type": "code",
   "execution_count": 2,
   "id": "12081c03-afe7-4a8f-a5c1-f0ee196d484f",
   "metadata": {},
   "outputs": [
    {
     "name": "stdout",
     "output_type": "stream",
     "text": [
      "Mean Squared Error: 24989501.19\n"
     ]
    }
   ],
   "source": [
    "# Loss Function的實作\n",
    "# Loss Function的目的是：評估模型的效能\n",
    "# 本次以MSE來舉例，MSE特別適合用來做回歸\n",
    "# 把 y_pred 改成 np.array([10000.9, 2.8, 4.1, 5.0])\n",
    "\n",
    "import numpy as np\n",
    "\n",
    "# 假设的真实值和预测值\n",
    "y_true = np.array([3.0, 2.5, 4.0, 5.5])\n",
    "y_pred = np.array([10000.9, 2.8, 4.1, 5.0])\n",
    "\n",
    "# 计算平均平方误差 (MSE)\n",
    "mse = np.mean((y_true - y_pred) ** 2)\n",
    "\n",
    "print(\"Mean Squared Error:\", mse)"
   ]
  },
  {
   "cell_type": "code",
   "execution_count": null,
   "id": "d6f0ea67-8187-487a-938d-95d6517153d9",
   "metadata": {},
   "outputs": [],
   "source": []
  }
 ],
 "metadata": {
  "kernelspec": {
   "display_name": "1122_NLP",
   "language": "python",
   "name": "1122_nlp"
  },
  "language_info": {
   "codemirror_mode": {
    "name": "ipython",
    "version": 3
   },
   "file_extension": ".py",
   "mimetype": "text/x-python",
   "name": "python",
   "nbconvert_exporter": "python",
   "pygments_lexer": "ipython3",
   "version": "3.8.18"
  }
 },
 "nbformat": 4,
 "nbformat_minor": 5
}
