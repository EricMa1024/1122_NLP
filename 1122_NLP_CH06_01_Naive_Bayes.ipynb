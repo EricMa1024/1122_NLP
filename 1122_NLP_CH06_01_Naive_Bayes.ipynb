{
 "cells": [
  {
   "cell_type": "code",
   "execution_count": 8,
   "id": "e8c8d603-5f5b-4146-ae5a-ae5831cb987d",
   "metadata": {},
   "outputs": [
    {
     "name": "stdout",
     "output_type": "stream",
     "text": [
      "              precision    recall  f1-score   support\n",
      "\n",
      "           0       1.00      1.00      1.00         2\n",
      "\n",
      "    accuracy                           1.00         2\n",
      "   macro avg       1.00      1.00      1.00         2\n",
      "weighted avg       1.00      1.00      1.00         2\n",
      "\n"
     ]
    }
   ],
   "source": [
    "# 探討Navie_Bayes以及在垃圾信件分類的應用\n",
    "import numpy as np\n",
    "from sklearn.model_selection import train_test_split\n",
    "from sklearn.feature_extraction.text import CountVectorizer\n",
    "from sklearn.naive_bayes import MultinomialNB\n",
    "from sklearn.metrics import classification_report\n",
    "\n",
    "# 示例數據（通常你會使用實際的郵件數據）\n",
    "emails = [\n",
    "    \"Hey there, I think you should check out this sale!\",\n",
    "    \"Dear user, your account has been compromised.\",\n",
    "    \"This is a regular email about the project meeting.\",\n",
    "    \"Win a free vacation now! Click here.\",\n",
    "    \"Could we schedule a meeting for tomorrow?\",\n",
    "    \"Hey there, I think you should check out this sale!\",\n",
    "    \"Dear user, your account has been compromised.\",\n",
    "    \"This is a regular email about the project meeting.\",\n",
    "    \"Win a free vacation now! Click here.\",\n",
    "    \"Could we schedule a meeting for tomorrow?\"\n",
    "]\n",
    "labels = [1, 0, 1, 0, 0, 1, 0, 1, 0, 0]  # 1 表示垃圾郵件, 0 表示非垃圾郵件\n",
    "\n",
    "# 數據分割\n",
    "X_train, X_test, y_train, y_test = train_test_split(emails, labels, test_size=0.2, random_state=42)\n",
    "\n",
    "# 特徵提取\n",
    "vectorizer = CountVectorizer()\n",
    "X_train_counts = vectorizer.fit_transform(X_train)\n",
    "X_test_counts = vectorizer.transform(X_test)\n",
    "\n",
    "# 建立模型\n",
    "clf = MultinomialNB()\n",
    "clf.fit(X_train_counts, y_train)\n",
    "\n",
    "# 預測和評估\n",
    "y_pred = clf.predict(X_test_counts)\n",
    "print(classification_report(y_test, y_pred))\n"
   ]
  },
  {
   "cell_type": "code",
   "execution_count": null,
   "id": "bf2a1b90-c1c3-4ca8-8c5e-b9059a6901c9",
   "metadata": {},
   "outputs": [],
   "source": []
  },
  {
   "cell_type": "code",
   "execution_count": null,
   "id": "979f5822-264d-4e18-93df-92cba77f9381",
   "metadata": {},
   "outputs": [],
   "source": []
  }
 ],
 "metadata": {
  "kernelspec": {
   "display_name": "1122_NLP",
   "language": "python",
   "name": "1122_nlp"
  },
  "language_info": {
   "codemirror_mode": {
    "name": "ipython",
    "version": 3
   },
   "file_extension": ".py",
   "mimetype": "text/x-python",
   "name": "python",
   "nbconvert_exporter": "python",
   "pygments_lexer": "ipython3",
   "version": "3.8.18"
  }
 },
 "nbformat": 4,
 "nbformat_minor": 5
}
